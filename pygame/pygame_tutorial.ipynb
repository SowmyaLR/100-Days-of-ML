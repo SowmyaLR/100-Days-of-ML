{
  "nbformat": 4,
  "nbformat_minor": 0,
  "metadata": {
    "colab": {
      "name": "pygame_tutorial.ipynb",
      "provenance": [],
      "authorship_tag": "ABX9TyO2qmvOzRZaXQFTKdrVfyae",
      "include_colab_link": true
    },
    "kernelspec": {
      "name": "python3",
      "display_name": "Python 3"
    }
  },
  "cells": [
    {
      "cell_type": "markdown",
      "metadata": {
        "id": "view-in-github",
        "colab_type": "text"
      },
      "source": [
        "<a href=\"https://colab.research.google.com/github/SowmyaLR/100-Days-of-ML/blob/pygame/pygame/pygame_tutorial.ipynb\" target=\"_parent\"><img src=\"https://colab.research.google.com/assets/colab-badge.svg\" alt=\"Open In Colab\"/></a>"
      ]
    },
    {
      "cell_type": "code",
      "metadata": {
        "id": "L28hwaGYe9mF",
        "colab_type": "code",
        "colab": {
          "base_uri": "https://localhost:8080/",
          "height": 309
        },
        "outputId": "56c25d09-42f3-4cec-be42-6e2113595f1b"
      },
      "source": [
        "import os\n",
        "!git clone https://github.com/ntasfi/PyGame-Learning-Environment.git\n",
        "os.chdir('PyGame-Learning-Environment')\n",
        "!pip install -e .\n",
        "!pip install pygame\n",
        "os.chdir('/content')"
      ],
      "execution_count": 1,
      "outputs": [
        {
          "output_type": "stream",
          "text": [
            "Cloning into 'PyGame-Learning-Environment'...\n",
            "remote: Enumerating objects: 1118, done.\u001b[K\n",
            "remote: Total 1118 (delta 0), reused 0 (delta 0), pack-reused 1118\u001b[K\n",
            "Receiving objects: 100% (1118/1118), 8.06 MiB | 5.10 MiB/s, done.\n",
            "Resolving deltas: 100% (592/592), done.\n",
            "Obtaining file:///content/PyGame-Learning-Environment\n",
            "Requirement already satisfied: numpy in /usr/local/lib/python3.6/dist-packages (from ple==0.0.1) (1.18.5)\n",
            "Requirement already satisfied: Pillow in /usr/local/lib/python3.6/dist-packages (from ple==0.0.1) (7.0.0)\n",
            "Installing collected packages: ple\n",
            "  Running setup.py develop for ple\n",
            "Successfully installed ple\n",
            "Collecting pygame\n",
            "\u001b[?25l  Downloading https://files.pythonhosted.org/packages/8e/24/ede6428359f913ed9cd1643dd5533aefeb5a2699cc95bea089de50ead586/pygame-1.9.6-cp36-cp36m-manylinux1_x86_64.whl (11.4MB)\n",
            "\u001b[K     |████████████████████████████████| 11.4MB 2.8MB/s \n",
            "\u001b[?25hInstalling collected packages: pygame\n",
            "Successfully installed pygame-1.9.6\n"
          ],
          "name": "stdout"
        }
      ]
    },
    {
      "cell_type": "markdown",
      "metadata": {
        "id": "WsdSh2ST9Txc",
        "colab_type": "text"
      },
      "source": [
        "Set video device."
      ]
    },
    {
      "cell_type": "code",
      "metadata": {
        "id": "qW47EeCn8EFD",
        "colab_type": "code",
        "colab": {}
      },
      "source": [
        "import os\n",
        "\n",
        "os.environ['SDL_VIDEODRIVER'] = 'dummy'"
      ],
      "execution_count": 5,
      "outputs": []
    },
    {
      "cell_type": "code",
      "metadata": {
        "id": "J9h24h30hBWX",
        "colab_type": "code",
        "colab": {
          "base_uri": "https://localhost:8080/",
          "height": 51
        },
        "outputId": "fdfe04e1-c9a1-4bc0-bc3f-0df5a8fd4d97"
      },
      "source": [
        "import pygame"
      ],
      "execution_count": 2,
      "outputs": [
        {
          "output_type": "stream",
          "text": [
            "pygame 1.9.6\n",
            "Hello from the pygame community. https://www.pygame.org/contribute.html\n"
          ],
          "name": "stdout"
        }
      ]
    },
    {
      "cell_type": "code",
      "metadata": {
        "id": "g25f0WQn5v82",
        "colab_type": "code",
        "colab": {
          "base_uri": "https://localhost:8080/",
          "height": 34
        },
        "outputId": "c2145b83-845c-4d49-d8bb-7104a8ae5936"
      },
      "source": [
        "pygame.init()"
      ],
      "execution_count": 3,
      "outputs": [
        {
          "output_type": "execute_result",
          "data": {
            "text/plain": [
              "(4, 2)"
            ]
          },
          "metadata": {
            "tags": []
          },
          "execution_count": 3
        }
      ]
    },
    {
      "cell_type": "markdown",
      "metadata": {
        "id": "nDgdARdx9YlC",
        "colab_type": "text"
      },
      "source": [
        "No video device available in colab. so only -1"
      ]
    },
    {
      "cell_type": "code",
      "metadata": {
        "id": "q7dWKtbd8OgH",
        "colab_type": "code",
        "colab": {
          "base_uri": "https://localhost:8080/",
          "height": 34
        },
        "outputId": "ec13c546-f55b-48f5-fcbe-452a70494583"
      },
      "source": [
        "pygame.display.list_modes()"
      ],
      "execution_count": 7,
      "outputs": [
        {
          "output_type": "execute_result",
          "data": {
            "text/plain": [
              "-1"
            ]
          },
          "metadata": {
            "tags": []
          },
          "execution_count": 7
        }
      ]
    },
    {
      "cell_type": "code",
      "metadata": {
        "id": "hcTOQdCG7fOW",
        "colab_type": "code",
        "colab": {}
      },
      "source": [
        "game_display = pygame.display.set_mode((800,600))\n",
        "pygame.display.set_caption('First pygame')"
      ],
      "execution_count": 8,
      "outputs": []
    },
    {
      "cell_type": "code",
      "metadata": {
        "id": "PKBawOz9-GsK",
        "colab_type": "code",
        "colab": {}
      },
      "source": [
        "clock = pygame.time.Clock()"
      ],
      "execution_count": 9,
      "outputs": []
    },
    {
      "cell_type": "code",
      "metadata": {
        "id": "n1OVDE11-KDS",
        "colab_type": "code",
        "colab": {}
      },
      "source": [
        "crashed = False"
      ],
      "execution_count": 10,
      "outputs": []
    },
    {
      "cell_type": "code",
      "metadata": {
        "id": "rpDLa6s8-3wf",
        "colab_type": "code",
        "colab": {}
      },
      "source": [
        "while not crashed:\n",
        "  for event in pygame.event.get():\n",
        "    if event.type == pygame.QUIT:\n",
        "      crashed = True\n",
        "    print(event)\n",
        "\n",
        "  pygame.display.update()\n",
        "\n",
        "  clock.tick(60)\n",
        "\n",
        "pygame.quit()\n",
        "quit()"
      ],
      "execution_count": null,
      "outputs": []
    }
  ]
}